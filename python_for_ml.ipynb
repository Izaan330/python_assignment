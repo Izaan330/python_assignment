{
  "nbformat": 4,
  "nbformat_minor": 0,
  "metadata": {
    "colab": {
      "provenance": [],
      "authorship_tag": "ABX9TyNuf8jWSB2mNlpVDLDO8im4",
      "include_colab_link": true
    },
    "kernelspec": {
      "name": "python3",
      "display_name": "Python 3"
    },
    "language_info": {
      "name": "python"
    }
  },
  "cells": [
    {
      "cell_type": "markdown",
      "metadata": {
        "id": "view-in-github",
        "colab_type": "text"
      },
      "source": [
        "<a href=\"https://colab.research.google.com/github/Izaan330/python_assignment/blob/main/python_for_ml.ipynb\" target=\"_parent\"><img src=\"https://colab.research.google.com/assets/colab-badge.svg\" alt=\"Open In Colab\"/></a>"
      ]
    },
    {
      "cell_type": "markdown",
      "source": [
        "**Class** **1**\n"
      ],
      "metadata": {
        "id": "1MOuNOPYuTrs"
      }
    },
    {
      "cell_type": "code",
      "execution_count": null,
      "metadata": {
        "colab": {
          "base_uri": "https://localhost:8080/"
        },
        "id": "4n-K8NXtrMzJ",
        "outputId": "2bf5561b-5d21-4db0-baf1-efbf198cecca"
      },
      "outputs": [
        {
          "output_type": "stream",
          "name": "stdout",
          "text": [
            "hello world!\n"
          ]
        }
      ],
      "source": [
        "print(\"hello world!\")\n"
      ]
    },
    {
      "cell_type": "code",
      "source": [
        "#(everything followed by # is a single comment in python programming language)\n",
        "# we can make variable but the starting character can only be alphabets or underscore"
      ],
      "metadata": {
        "id": "x83rfRIdrSoa"
      },
      "execution_count": null,
      "outputs": []
    },
    {
      "cell_type": "code",
      "source": [
        "_num=10\n",
        "print(_num)\n",
        "print(type(_num))"
      ],
      "metadata": {
        "colab": {
          "base_uri": "https://localhost:8080/"
        },
        "id": "9uxAFv9PfdqB",
        "outputId": "f567e1f1-73ca-4c40-9900-470329d0b706"
      },
      "execution_count": null,
      "outputs": [
        {
          "output_type": "stream",
          "name": "stdout",
          "text": [
            "10\n",
            "<class 'int'>\n"
          ]
        }
      ]
    },
    {
      "cell_type": "code",
      "source": [
        "#similarly for float data types\n",
        "num1=3.4\n",
        "num2=num1+_num\n",
        "print(num2)\n",
        "print(type(num2))"
      ],
      "metadata": {
        "colab": {
          "base_uri": "https://localhost:8080/"
        },
        "id": "IDx7ISF7hky2",
        "outputId": "6d206138-efc6-44f4-8c2e-8465d534b1c7"
      },
      "execution_count": null,
      "outputs": [
        {
          "output_type": "stream",
          "name": "stdout",
          "text": [
            "13.4\n",
            "<class 'float'>\n"
          ]
        }
      ]
    },
    {
      "cell_type": "code",
      "source": [
        "# strings can be declared flexibly in single quotes or double quotes\n",
        "#boolean\n"
      ],
      "metadata": {
        "id": "VrHDN6T0jtGI"
      },
      "execution_count": null,
      "outputs": []
    },
    {
      "cell_type": "code",
      "source": [
        "#concatenation\n",
        "num12=1233\n",
        "print(\"value of the variable is\",num12)\n",
        "#but we can not use + for int string concatenation as it is used only for str to str"
      ],
      "metadata": {
        "colab": {
          "base_uri": "https://localhost:8080/"
        },
        "id": "JF6JnU6gkN6n",
        "outputId": "e196dc13-3654-4b87-af9b-1442a76d9cbb"
      },
      "execution_count": null,
      "outputs": [
        {
          "output_type": "stream",
          "name": "stdout",
          "text": [
            "value of the variable is 1233\n"
          ]
        }
      ]
    },
    {
      "cell_type": "code",
      "source": [
        "x=input(\"enter the value of x\")\n",
        "y=input(\"enter the value of y\")\n",
        "print(\"here x and y are considered as string so only concatenation can occur that is\",x+y)"
      ],
      "metadata": {
        "id": "4m7mGZJRmyLa"
      },
      "execution_count": null,
      "outputs": []
    },
    {
      "cell_type": "code",
      "source": [
        "x=int(input(\"enter x\"))\n",
        "y=int(input(\"enter y\"))\n",
        "print(x+y)"
      ],
      "metadata": {
        "colab": {
          "base_uri": "https://localhost:8080/"
        },
        "id": "CIcvTodsm8HV",
        "outputId": "f5c21a7d-57c7-41a1-a594-5cde16693b47"
      },
      "execution_count": null,
      "outputs": [
        {
          "output_type": "stream",
          "name": "stdout",
          "text": [
            "enter x11\n",
            "enter y11\n",
            "22\n"
          ]
        }
      ]
    },
    {
      "cell_type": "markdown",
      "source": [
        "**Class 2**"
      ],
      "metadata": {
        "id": "ZVpp0cSwrD6a"
      }
    },
    {
      "cell_type": "code",
      "source": [
        "#collective data types in python\n",
        "'''\n",
        "set\n",
        "tuple\n",
        "dictionary\n",
        "list \n",
        "'''\n"
      ],
      "metadata": {
        "id": "zZ9_zKJ6rLAM"
      },
      "execution_count": null,
      "outputs": []
    },
    {
      "cell_type": "code",
      "source": [
        "'''this is a multi line comment'''"
      ],
      "metadata": {
        "id": "nShLfpXfsb7u"
      },
      "execution_count": null,
      "outputs": []
    },
    {
      "cell_type": "code",
      "source": [
        "#list-> ordered, mutable, homogeneous and heterogeneous, []\n",
        "\n",
        "list1=[\"izaan\",\"jakir\",\"shaikh\",1,2, False ]\n",
        "print(list1)\n",
        "print(type(list1))\n",
        "\n",
        "#index\n",
        "\n",
        "print(list1[0])\n",
        "print(list1[-2])\n",
        "\n",
        "#mutable means changeable\n",
        "\n",
        "list1[-1]=123\n",
        "print(list1)\n",
        "\n",
        "#adding or apending to the list\n",
        "\n",
        "list1.append(\"zero\")\n",
        "print(list1)\n",
        "\n",
        "#insert\n",
        "\n",
        "list1.insert(3,\"izzu\")\n",
        "print(list1)\n",
        "\n",
        "#adding a list to another list\n",
        "#method 1(using append)\n",
        "'''\n",
        "list2=[1,2,3,4]\n",
        "list1.append(list2)\n",
        "print(list1)\n",
        "'''\n",
        "#method 2(using extend)\n",
        "list2=[1,2,3,4]\n",
        "list1.extend(list2)\n",
        "print(list1)\n",
        "\n",
        "#deleting an element\n",
        "list1.remove(123)\n",
        "print(list1)\n",
        "\n",
        "'''or'''\n",
        "\n",
        "del list1[-2]\n",
        "print(list1)\n",
        "\n",
        "'''hence we can use del for deleting whole list1'''\n",
        "\n",
        "#length of the list\n",
        "print(\"the length of list is \",len(list1))"
      ],
      "metadata": {
        "colab": {
          "base_uri": "https://localhost:8080/"
        },
        "id": "f9VGNKMnss3i",
        "outputId": "e0066b09-86a9-436e-d5f3-e46fa3e56f6a"
      },
      "execution_count": null,
      "outputs": [
        {
          "output_type": "stream",
          "name": "stdout",
          "text": [
            "['izaan', 'jakir', 'shaikh', 1, 2, False]\n",
            "<class 'list'>\n",
            "izaan\n",
            "2\n",
            "['izaan', 'jakir', 'shaikh', 1, 2, 123]\n",
            "['izaan', 'jakir', 'shaikh', 1, 2, 123, 'zero']\n",
            "['izaan', 'jakir', 'shaikh', 'izzu', 1, 2, 123, 'zero']\n",
            "['izaan', 'jakir', 'shaikh', 'izzu', 1, 2, 123, 'zero', 1, 2, 3, 4]\n",
            "['izaan', 'jakir', 'shaikh', 'izzu', 1, 2, 'zero', 1, 2, 3, 4]\n",
            "['izaan', 'jakir', 'shaikh', 'izzu', 1, 2, 'zero', 1, 2, 4]\n",
            "the length of list is  10\n"
          ]
        }
      ]
    },
    {
      "cell_type": "code",
      "source": [
        "#tuple -> (),immutable\n",
        "tuple1=(\"izaan\",False,23.6,\"shaikh\")\n",
        "tuple2=(1,2,3)\n",
        "#tuple1.insert(3,\"i\")  <--- this doesnt work with tuple\n",
        "print(tuple1)"
      ],
      "metadata": {
        "colab": {
          "base_uri": "https://localhost:8080/"
        },
        "id": "qAY9o9042Ik5",
        "outputId": "1a609505-3fbd-49cf-dfea-3b16e13d858b"
      },
      "execution_count": null,
      "outputs": [
        {
          "output_type": "stream",
          "name": "stdout",
          "text": [
            "('izaan', False, 23.6, 'shaikh')\n"
          ]
        }
      ]
    },
    {
      "cell_type": "code",
      "source": [
        "#dictionary -> {}, key and values\n",
        "dic1={\n",
        "    \"username\":\"Izaan\",\n",
        "    \"password\":\"87935513301\",\n",
        "    \"date\":22.2023\n",
        "}\n",
        "\n",
        "print(dic1)\n",
        "print(dic1['password'])\n",
        "\n",
        "#update\n",
        "dic1[\"username\"]=(\"iZAAN\",123)\n",
        "print(dic1)\n",
        "\n",
        "#adding new elements\n",
        "dic1[\"Course\"]=(\"Python\")\n",
        "print(dic1)\n",
        "\n",
        "#removing element\n",
        "dic1.pop(\"username\")\n",
        "print(\"the updated dictionary is\",dic1)\n",
        "\n",
        "#updating a key \n",
        "\n",
        "new=dic1[\"Course\"]\n",
        "del dic1[\"Course\"]\n",
        "dic1[\"Learning\"]=new\n",
        "print(dic1)\n",
        "\n",
        "del dic1\n",
        "print(dic1)"
      ],
      "metadata": {
        "colab": {
          "base_uri": "https://localhost:8080/"
        },
        "id": "qbSUAJya9ZlX",
        "outputId": "5181d20d-3697-4509-9352-9ceeee986acc"
      },
      "execution_count": null,
      "outputs": [
        {
          "output_type": "stream",
          "name": "stdout",
          "text": [
            "{'username': 'Izaan', 'password': '87935513301', 'date': 22.2023}\n",
            "87935513301\n",
            "{'username': ('iZAAN', 123), 'password': '87935513301', 'date': 22.2023}\n",
            "{'username': ('iZAAN', 123), 'password': '87935513301', 'date': 22.2023, 'Course': 'Python'}\n",
            "the updated dictionary is {'password': '87935513301', 'date': 22.2023, 'Course': 'Python'}\n",
            "{'password': '87935513301', 'date': 22.2023, 'Learning': 'Python'}\n"
          ]
        }
      ]
    },
    {
      "cell_type": "code",
      "source": [
        "#set -> unordered, unidexed collection of data types, {}\n",
        "set1={\"data\",123,False,123,23.98,\"a\",\"b\"}\n",
        "print(set1)\n",
        "\n",
        "#add elements\n",
        "set1.add(\"izaan\")\n",
        "print(set1)\n",
        "\n",
        "#union of 2 sets\n",
        "set2={1,2,3,4,5}\n",
        "set3=set1.union(set2)\n",
        "print(set3)\n",
        "\n",
        "'''or'''\n",
        "\n",
        "set4=set1|set2\n",
        "print(set4)\n",
        "\n",
        "#practice\n",
        "\n",
        "set5={98,87,76}\n",
        "set6=set5|set2|set1\n",
        "\n",
        "print(set6)"
      ],
      "metadata": {
        "colab": {
          "base_uri": "https://localhost:8080/"
        },
        "id": "m3dzYvRw0sqT",
        "outputId": "d07d8efb-d879-4753-9bd1-2cf98dbda9a9"
      },
      "execution_count": null,
      "outputs": [
        {
          "output_type": "stream",
          "name": "stdout",
          "text": [
            "{False, 'a', 23.98, 123, 'data', 'b'}\n",
            "{False, 'a', 'izaan', 23.98, 123, 'data', 'b'}\n",
            "{False, 1, 2, 3, 4, 5, 'data', 'b', 'a', 'izaan', 23.98, 123}\n",
            "{False, 1, 2, 3, 4, 5, 'data', 'b', 'a', 'izaan', 23.98, 123}\n",
            "{False, 1, 98, 2, 3, 4, 5, 'data', 76, 'b', 'a', 'izaan', 23.98, 87, 123}\n"
          ]
        }
      ]
    },
    {
      "cell_type": "code",
      "source": [
        "mydic1={\"the\":1,\"the\":2}\n",
        "print(mydic1)\n",
        "\n",
        "print(\"but\")\n",
        "\n",
        "mydic2={\"the\":1,\"he\":1}\n",
        "print(mydic2)"
      ],
      "metadata": {
        "colab": {
          "base_uri": "https://localhost:8080/"
        },
        "id": "pglxeTHS4k6o",
        "outputId": "613331fb-7f28-4b72-ed54-2ccf173a2387"
      },
      "execution_count": null,
      "outputs": [
        {
          "output_type": "stream",
          "name": "stdout",
          "text": [
            "{'the': 2}\n",
            "but\n",
            "{'the': 1, 'he': 1}\n"
          ]
        }
      ]
    },
    {
      "cell_type": "code",
      "source": [
        "#intersection in sets\n",
        "set1={1,2,3,4,5,6}\n",
        "set2={7,6,5,4,3,3,}\n",
        "# set3=set1&set2\n",
        "# OR\n",
        "#set3=set1.intersection(set2)\n",
        "\n",
        "print(set3)\n",
        "\n",
        "set3=set1.difference(set2)\n",
        "print(set3)\n",
        "\n",
        "set3.clear()\n",
        "print(set3)"
      ],
      "metadata": {
        "colab": {
          "base_uri": "https://localhost:8080/"
        },
        "id": "XL3U9Ms9-Ov6",
        "outputId": "3d0acab1-260e-4590-a53e-a46b7fae18ef"
      },
      "execution_count": null,
      "outputs": [
        {
          "output_type": "stream",
          "name": "stdout",
          "text": [
            "set()\n",
            "{1, 2}\n",
            "set()\n"
          ]
        }
      ]
    },
    {
      "cell_type": "code",
      "source": [
        "#sets\n",
        "'''\n",
        "unordered,{}, no key:values as in dictionary, ??mutable??\n",
        "'''\n",
        "#?mutable?\n",
        "set1={1,2,3,4,5}\n",
        "set1.remove(5)\n",
        "set1.add(\"jakir\")\n",
        "'''\n",
        "set1.insert(3,\"izaan\")\n",
        "\n",
        "the above one doesnt work\n",
        "'''\n",
        "print(set1)"
      ],
      "metadata": {
        "colab": {
          "base_uri": "https://localhost:8080/"
        },
        "id": "zRQx2qBJ-74D",
        "outputId": "268550c3-19e7-4d8e-9e38-bf34255515c9"
      },
      "execution_count": null,
      "outputs": [
        {
          "output_type": "stream",
          "name": "stdout",
          "text": [
            "{1, 2, 3, 4, 'jakir'}\n"
          ]
        }
      ]
    },
    {
      "cell_type": "code",
      "source": [
        "#dictionary\n",
        "'''\n",
        "ordered,key-value system,{},format- key:value,mutable\n",
        "\n",
        "some commands:-\n",
        "pop\n",
        "'''\n",
        "\n",
        "#tuples\n",
        "'''\n",
        "(),immutable\n",
        "\n",
        "some commands:-\n",
        "'''\n",
        "\n",
        "#list\n",
        "'''\n",
        "ordered,negative indexing is also valid,[],mutable\n",
        "\n",
        "some commands:-\n",
        "insert\n",
        "extend \n",
        "remove\n",
        "append\n",
        "len\n",
        "del"
      ],
      "metadata": {
        "id": "wZEVOm4AHO3-"
      },
      "execution_count": null,
      "outputs": []
    },
    {
      "cell_type": "markdown",
      "source": [
        "**Class 4**"
      ],
      "metadata": {
        "id": "6B01usXWgamt"
      }
    },
    {
      "cell_type": "code",
      "source": [
        "print(\"izaan\\njakir\\nshaikh\")"
      ],
      "metadata": {
        "colab": {
          "base_uri": "https://localhost:8080/"
        },
        "id": "4RPpBgCUgdSp",
        "outputId": "fb1a7da8-c933-4e29-b2c0-0bf40f79aeb0"
      },
      "execution_count": null,
      "outputs": [
        {
          "output_type": "stream",
          "name": "stdout",
          "text": [
            "izaan\n",
            "jakir\n",
            "shaikh\n"
          ]
        }
      ]
    },
    {
      "cell_type": "code",
      "source": [
        "#functions\n",
        "''' example of a function '''\n",
        "def a():\n",
        "  print(\"the first function\")\n",
        "'''\n",
        "for x in range(0,3):\n",
        "  a()\n",
        "'''\n",
        "#or\n",
        "'''\n",
        "for c in range(3):\n",
        "  a()\n",
        "'''\n",
        "\n",
        "\n",
        "def add():\n",
        "  num1=int(input(\"enter num1\"))\n",
        "  num2=int(input(\"enter num2\"))\n",
        "  print(\"addition results->\",num1+num2)\n",
        "\n",
        "# add()"
      ],
      "metadata": {
        "colab": {
          "base_uri": "https://localhost:8080/"
        },
        "id": "sGuNMCk_gq9W",
        "outputId": "e301e53c-ffd6-4218-c1b6-ae13529addbb"
      },
      "execution_count": null,
      "outputs": [
        {
          "output_type": "stream",
          "name": "stdout",
          "text": [
            "the first function\n",
            "the first function\n",
            "the first function\n"
          ]
        }
      ]
    },
    {
      "cell_type": "code",
      "source": [
        "# for loop\n",
        "\n",
        "a=8\n",
        "\n",
        "for x in range(0,a):\n",
        "  print(x)\n"
      ],
      "metadata": {
        "colab": {
          "base_uri": "https://localhost:8080/"
        },
        "id": "3BwY8gT7lO0u",
        "outputId": "f1e5d4f7-d75c-4643-9a55-f5a101d1ef97"
      },
      "execution_count": null,
      "outputs": [
        {
          "output_type": "stream",
          "name": "stdout",
          "text": [
            "0\n",
            "1\n",
            "2\n",
            "3\n",
            "4\n",
            "5\n",
            "6\n",
            "7\n"
          ]
        }
      ]
    },
    {
      "cell_type": "code",
      "source": [
        "list1=[\"izaan\",\"jakir\",\"shaikh\",1,2, False ]\n",
        "'''\n",
        "for z in range(0,6):\n",
        "  print(list1[z])\n",
        "'''\n",
        "#OR\n",
        "'''\n",
        "for z in list1:\n",
        "  print(z)\n",
        "'''\n"
      ],
      "metadata": {
        "colab": {
          "base_uri": "https://localhost:8080/"
        },
        "id": "wlbiTIitmcEA",
        "outputId": "bb9fb976-847c-463e-c857-46342fc89cc7"
      },
      "execution_count": null,
      "outputs": [
        {
          "output_type": "stream",
          "name": "stdout",
          "text": [
            "izaan\n",
            "jakir\n",
            "shaikh\n",
            "1\n",
            "2\n",
            "False\n"
          ]
        }
      ]
    },
    {
      "cell_type": "code",
      "source": [
        "def x():\n",
        "  for z in range(0,-5,-1):\n",
        "    print(z,\"hey\")\n",
        "\n",
        "x()"
      ],
      "metadata": {
        "colab": {
          "base_uri": "https://localhost:8080/"
        },
        "id": "Iq7Zh-n_pZ6o",
        "outputId": "c5ac15da-8c51-4e81-adae-303850ed6c84"
      },
      "execution_count": null,
      "outputs": [
        {
          "output_type": "stream",
          "name": "stdout",
          "text": [
            "0 hey\n",
            "-1 hey\n",
            "-2 hey\n",
            "-3 hey\n",
            "-4 hey\n"
          ]
        }
      ]
    },
    {
      "cell_type": "code",
      "source": [
        "#if else\n",
        "if(2>6):\n",
        "  print(\"former number is greater\")\n",
        "elif(2<6):\n",
        "    print(\"latter is greater\")\n",
        "else:\n",
        "      print(\"both are equal\")"
      ],
      "metadata": {
        "id": "jKDbnz5bsJik"
      },
      "execution_count": null,
      "outputs": []
    },
    {
      "cell_type": "code",
      "source": [
        "def quiz():\n",
        "  x=input(\"enter the option\")\n",
        "  if(x=='a'):\n",
        "    print(\"you have won\")\n",
        "  elif x=='c'or'b':\n",
        "    print(\"its a draw\")\n",
        "  else:\n",
        "    print(\"you have lost\")\n",
        "\n",
        "quiz()"
      ],
      "metadata": {
        "colab": {
          "base_uri": "https://localhost:8080/"
        },
        "id": "lhgMVUVOrVNS",
        "outputId": "fa4cc50e-952e-47a9-fee2-cd93475a79d6"
      },
      "execution_count": null,
      "outputs": [
        {
          "output_type": "stream",
          "name": "stdout",
          "text": [
            "enter the optionb\n",
            "its a draw\n"
          ]
        }
      ]
    },
    {
      "cell_type": "markdown",
      "source": [
        "**Class 5**"
      ],
      "metadata": {
        "id": "pXj5kYCp2OwI"
      }
    },
    {
      "cell_type": "code",
      "source": [
        "#Files- read mode, write mode and append mode\n",
        "file=open(\"a.txt\",\"r\")\n",
        "print(file.read())\n"
      ],
      "metadata": {
        "colab": {
          "base_uri": "https://localhost:8080/"
        },
        "id": "sYhzNyeT2Lm1",
        "outputId": "a0df9f76-5323-4ac5-cba8-5184e0b48901"
      },
      "execution_count": null,
      "outputs": [
        {
          "output_type": "stream",
          "name": "stdout",
          "text": [
            "izaan jakir shaikh\n"
          ]
        }
      ]
    },
    {
      "cell_type": "code",
      "source": [
        "file.close()"
      ],
      "metadata": {
        "id": "G1Sh9njj9yO2"
      },
      "execution_count": null,
      "outputs": []
    },
    {
      "cell_type": "code",
      "source": [
        "# file=open(\"a.txt\",\"w\")\n",
        "# file.write(\"this is written by me\")\n",
        "\n",
        "# file=open(\"a.txt\",\"r\")\n",
        "# print(file.read())\n",
        "\n",
        "# # file.close()\n",
        "\n",
        "# file=open(\"a.txt\",\"a\")\n",
        "# file.write(\"\\n I am a programmer\")\n",
        "\n",
        "# #the immediate output is string length\n",
        "\n",
        "# # file=open(\"a.txt\",\"r\")\n",
        "# # print(file.read())"
      ],
      "metadata": {
        "colab": {
          "base_uri": "https://localhost:8080/"
        },
        "id": "N-KVv-kJ-AQS",
        "outputId": "1b2787b2-76ae-4ae4-901c-e1da592895c7"
      },
      "execution_count": null,
      "outputs": [
        {
          "output_type": "stream",
          "name": "stdout",
          "text": [
            "this is written by me\n"
          ]
        },
        {
          "output_type": "execute_result",
          "data": {
            "text/plain": [
              "19"
            ]
          },
          "metadata": {},
          "execution_count": 1
        }
      ]
    },
    {
      "cell_type": "code",
      "source": [
        "with open(\"a.txt\",\"r\") as file1:\n",
        "  print(file1.read())"
      ],
      "metadata": {
        "colab": {
          "base_uri": "https://localhost:8080/"
        },
        "id": "J0e-p-IXTAxS",
        "outputId": "14630e19-ac01-4cd7-f55d-07c5dec31a29"
      },
      "execution_count": null,
      "outputs": [
        {
          "output_type": "stream",
          "name": "stdout",
          "text": [
            "this is written by me\n"
          ]
        }
      ]
    },
    {
      "cell_type": "code",
      "source": [
        "list1=[\"Izaan \\n\",\"Jakir \\n\",\"Shaikh \\n\"]\n",
        "with open(\"a.txt\",\"a\") as file1:\n",
        "  file1.writelines(list1)\n",
        "\n",
        "with open(\"a.txt\",\"r\") as file1:\n",
        "  print(file1.read())\n",
        "\n"
      ],
      "metadata": {
        "colab": {
          "base_uri": "https://localhost:8080/"
        },
        "id": "02l_H8NRXjpT",
        "outputId": "da0e5c5a-38c6-44b0-f429-ee520dd98d76"
      },
      "execution_count": null,
      "outputs": [
        {
          "output_type": "stream",
          "name": "stdout",
          "text": [
            "this is written by meIzaan \n",
            "Jakir \n",
            "Shaikh \n",
            "\n"
          ]
        }
      ]
    },
    {
      "cell_type": "code",
      "source": [
        "#simple calculator\n",
        "\n",
        "print(\"1.add \\n 2.subtract \\n 3.multiply \\n 4.divide\")\n",
        "x=float(input(\"enter first number\"))\n",
        "y=float(input(\"enter second number\"))\n",
        "z=int(input(\"enter 1 to add \\nenter 2 to subtract \\nenter 3 to multiply \\nenter 4 to divide\"))\n",
        "\n",
        "if(z==1):\n",
        "  print(x+y)\n",
        "elif(z==2):\n",
        "  print(x-y)\n",
        "elif(z==3):\n",
        "  print(x*y)\n",
        "else:\n",
        "  print(x/y)\n",
        "\n",
        "\n",
        "\n"
      ],
      "metadata": {
        "colab": {
          "base_uri": "https://localhost:8080/"
        },
        "id": "ahg2IiENZQcr",
        "outputId": "6bf26535-368f-4a69-b4ba-2e95fecb9d7f"
      },
      "execution_count": null,
      "outputs": [
        {
          "output_type": "stream",
          "name": "stdout",
          "text": [
            "1.add \n",
            " 2.subtract \n",
            " 3.multiply \n",
            " 4.divide\n",
            "enter first number26.23\n",
            "enter second number64.69\n",
            "enter 1 to add \n",
            "enter 2 to subtract \n",
            "enter 3 to multiply \n",
            "enter 4 to divide4\n",
            "0.40547225228010514\n"
          ]
        }
      ]
    },
    {
      "cell_type": "markdown",
      "source": [
        "**class 6**"
      ],
      "metadata": {
        "id": "-xufJvMbaijc"
      }
    },
    {
      "cell_type": "code",
      "source": [
        "#keyword arguments\n",
        "def _arg_(name,city,branch):\n",
        "  print(\"hello my name is\",name,\"I am from\",city,\"from branch\",branch)\n",
        "\n",
        "_arg_(city=\"Rahuri\",branch=2023,name=\"Izaan\")                                   #this was an example of keyword arguments\n",
        "\n",
        "_arg_(\"Rahuri\",2023,\"Izaan\")                                                    #this was an example of positional arguments\n",
        "\n",
        "def _arg1(name=\"Izaan\",city=\"Ahmednagar\",branch=2023):                          #this was an examole of default arguments\n",
        "  print(\"hello my name is\",name,\"I am from\",city,\"from branch\",branch)\n",
        "_arg1()\n",
        "_arg1(\"Izmian\")                                                                 #positional arguments must be given before keyword argument when writing altogether"
      ],
      "metadata": {
        "colab": {
          "base_uri": "https://localhost:8080/"
        },
        "id": "uJigcQlJapJp",
        "outputId": "aa920ea7-2244-4be9-c70e-e03111ce770e"
      },
      "execution_count": null,
      "outputs": [
        {
          "output_type": "stream",
          "name": "stdout",
          "text": [
            "hello my name is Izaan I am from Rahuri from branch 2023\n",
            "hello my name is Rahuri I am from 2023 from branch Izaan\n",
            "hello my name is Izaan I am from Ahmednagar from branch 2023\n",
            "hello my name is Izmian I am from Ahmednagar from branch 2023\n"
          ]
        }
      ]
    },
    {
      "cell_type": "code",
      "source": [
        "#slicing \n",
        "s=\"Pythonecourse\"\n",
        "print(s[0:6])\n",
        "print(s[:6])\n",
        "\n",
        "print(s[-6:])\n",
        "\n",
        "print(s[::2])\n",
        "\n",
        "#replace\n",
        "''' \n",
        "  doesnt work\n",
        "  print(s.replace(\"e\",6,\"z\"))\n",
        "'''\n",
        "print(s.replace(\"P\",\"I\"))\n"
      ],
      "metadata": {
        "colab": {
          "base_uri": "https://localhost:8080/"
        },
        "id": "iRazvdqqkPQn",
        "outputId": "983f5003-d669-40e6-c2fb-8254b162cd5f"
      },
      "execution_count": null,
      "outputs": [
        {
          "output_type": "stream",
          "name": "stdout",
          "text": [
            "Python\n",
            "Python\n",
            "course\n",
            "Ptoeore\n",
            "Iythonecourse\n"
          ]
        }
      ]
    },
    {
      "cell_type": "markdown",
      "source": [
        "**Class 7**"
      ],
      "metadata": {
        "id": "OBpSt4-hwNa5"
      }
    },
    {
      "cell_type": "code",
      "source": [
        "#when we don't know the exact number of arguments we use * before the variable name \n",
        "\n",
        "def details(Teacher,*iz):\n",
        "  print(\"name of the class teacher is\", Teacher)\n",
        "  for roll_no in iz:\n",
        "    print(\"The roll number is\",roll_no)\n",
        "\n",
        "details(\"sonali\",1,2,3,4,5,33)"
      ],
      "metadata": {
        "colab": {
          "base_uri": "https://localhost:8080/"
        },
        "id": "64g81hdJkT1Z",
        "outputId": "5b0d6a68-88db-4424-8358-448a4c3c948e"
      },
      "execution_count": null,
      "outputs": [
        {
          "output_type": "stream",
          "name": "stdout",
          "text": [
            "name of the class teacher is sonali\n",
            "The roll number is 1\n",
            "The roll number is 2\n",
            "The roll number is 3\n",
            "The roll number is 4\n",
            "The roll number is 5\n",
            "The roll number is 33\n"
          ]
        }
      ]
    },
    {
      "cell_type": "code",
      "source": [
        "def details(Teacher,*args):\n",
        "  print(\"name of the class teacher is\", Teacher)\n",
        "  iz=sorted(args)\n",
        "  for roll_no in iz:\n",
        "    print(\"The roll number is\",roll_no)\n",
        "\n",
        "details(\"sonali\",155,2,3,94,5,33)"
      ],
      "metadata": {
        "colab": {
          "base_uri": "https://localhost:8080/"
        },
        "id": "vAzFMWsQzV1F",
        "outputId": "e35cd509-f23a-410c-968d-cc585d8af122"
      },
      "execution_count": null,
      "outputs": [
        {
          "output_type": "stream",
          "name": "stdout",
          "text": [
            "name of the class teacher is sonali\n",
            "The roll number is 2\n",
            "The roll number is 3\n",
            "The roll number is 5\n",
            "The roll number is 33\n",
            "The roll number is 94\n",
            "The roll number is 155\n"
          ]
        }
      ]
    },
    {
      "cell_type": "code",
      "source": [
        "def details(Teacher,*args,**kwargs):\n",
        "  print(\"name of the class teacher is\", Teacher)\n",
        "  iz=sorted(args)\n",
        "  for roll_no in iz:\n",
        "    print(\"The roll number is\",roll_no)\n",
        "  for z in kwargs:\n",
        "    print(z,kwargs[z])\n",
        "\n",
        "details(\"sonali\",155,2,3,94,5,33,name=\"izaan\",city=\"Mumbai\",interest=\"machine learning\")"
      ],
      "metadata": {
        "colab": {
          "base_uri": "https://localhost:8080/"
        },
        "id": "1mMW9twB1eam",
        "outputId": "c610ddb5-7152-48b8-d5f1-4881cb98c3d9"
      },
      "execution_count": null,
      "outputs": [
        {
          "output_type": "stream",
          "name": "stdout",
          "text": [
            "name of the class teacher is sonali\n",
            "The roll number is 2\n",
            "The roll number is 3\n",
            "The roll number is 5\n",
            "The roll number is 33\n",
            "The roll number is 94\n",
            "The roll number is 155\n",
            "name izaan\n",
            "city Mumbai\n",
            "interest machine learning\n"
          ]
        }
      ]
    },
    {
      "cell_type": "code",
      "source": [
        "args=[1,4,6,3,5]\n",
        "container=iter(args)\n",
        "print(next(container))"
      ],
      "metadata": {
        "colab": {
          "base_uri": "https://localhost:8080/"
        },
        "id": "-c6N5zmN5T7u",
        "outputId": "92a2a731-ca1d-4e75-8a8f-1c93cb58fbb0"
      },
      "execution_count": null,
      "outputs": [
        {
          "output_type": "stream",
          "name": "stdout",
          "text": [
            "1\n"
          ]
        }
      ]
    },
    {
      "cell_type": "code",
      "source": [
        "\n",
        "print(next(container))"
      ],
      "metadata": {
        "colab": {
          "base_uri": "https://localhost:8080/"
        },
        "id": "DjshHnXS67qw",
        "outputId": "58e307e7-5931-45d9-f3f6-c003b1ac13c5"
      },
      "execution_count": null,
      "outputs": [
        {
          "output_type": "stream",
          "name": "stdout",
          "text": [
            "3\n"
          ]
        }
      ]
    },
    {
      "cell_type": "code",
      "source": [
        "substri=\"Izzue\"\n",
        "print(substri.index(\"z\",2))"
      ],
      "metadata": {
        "colab": {
          "base_uri": "https://localhost:8080/"
        },
        "id": "YSueYK0D73cv",
        "outputId": "d0b084c7-8603-4f79-d563-89f4b383933f"
      },
      "execution_count": null,
      "outputs": [
        {
          "output_type": "stream",
          "name": "stdout",
          "text": [
            "2\n"
          ]
        }
      ]
    },
    {
      "cell_type": "code",
      "source": [
        "list2=[3,4,5,7,89,23,11,7]\n",
        "print(list2.index(7,4))\n"
      ],
      "metadata": {
        "colab": {
          "base_uri": "https://localhost:8080/"
        },
        "id": "7GbfOOEi88PE",
        "outputId": "11e00998-c5e5-4548-9f96-f51493dff73d"
      },
      "execution_count": null,
      "outputs": [
        {
          "output_type": "stream",
          "name": "stdout",
          "text": [
            "7\n"
          ]
        }
      ]
    },
    {
      "cell_type": "code",
      "source": [
        "myset={2,4,7,90,76,31,24}\n",
        "print(max(myset))\n",
        "print(min(myset))\n",
        "\n",
        "myset.remove(90)\n",
        "print(myset)"
      ],
      "metadata": {
        "colab": {
          "base_uri": "https://localhost:8080/"
        },
        "id": "ehbz7-gm_RBs",
        "outputId": "ede8db7e-ddea-4db1-c3eb-5932360bb5d3"
      },
      "execution_count": null,
      "outputs": [
        {
          "output_type": "stream",
          "name": "stdout",
          "text": [
            "90\n",
            "2\n",
            "{2, 4, 7, 24, 76, 31}\n"
          ]
        }
      ]
    },
    {
      "cell_type": "code",
      "source": [
        "def evenodd(list3):\n",
        "  even_list=[]\n",
        "  odd_list=[]\n",
        "\n",
        "  for i in list3:\n",
        "    if(i%2==0):\n",
        "      even_list.append(i)\n",
        "    else:\n",
        "      odd_list.append(i)\n",
        "  \n",
        "  print(even_list,\"this was even list\")\n",
        "  print(odd_list,\"this was odd list\")\n",
        "\n",
        "list3=list()\n",
        "print(\"enter the number of numbers\")\n",
        "n=int(input(\"\"))\n",
        "for x in range (n):\n",
        "  print(\"Enter any random number\")\n",
        "  z=int(input(\"\"))\n",
        "  list3.append(z)\n",
        "\n",
        "print(list3)\n",
        "evenodd(list3)\n",
        "\n",
        "del list3\n"
      ],
      "metadata": {
        "colab": {
          "base_uri": "https://localhost:8080/"
        },
        "id": "o0mIyEGvCOTQ",
        "outputId": "7030895d-b796-4be4-d4ff-f73804ef5a1e"
      },
      "execution_count": null,
      "outputs": [
        {
          "output_type": "stream",
          "name": "stdout",
          "text": [
            "enter the number of numbers\n",
            "4\n",
            "Enter any random number\n",
            "1\n",
            "Enter any random number\n",
            "2\n",
            "Enter any random number\n",
            "3\n",
            "Enter any random number\n",
            "4\n",
            "[1, 2, 3, 4]\n",
            "[2, 4] this was even list\n",
            "[1, 3] this was odd list\n"
          ]
        }
      ]
    },
    {
      "cell_type": "code",
      "source": [
        "#exception handling\n",
        "try:\n",
        "  print(c)\n",
        "except:\n",
        "  print(\"the error has occured\")"
      ],
      "metadata": {
        "colab": {
          "base_uri": "https://localhost:8080/"
        },
        "id": "6auHwbtp1bqR",
        "outputId": "5a842ffb-93e9-45a6-925b-5dc9de05d5d2"
      },
      "execution_count": null,
      "outputs": [
        {
          "output_type": "stream",
          "name": "stdout",
          "text": [
            "the error has occured\n"
          ]
        }
      ]
    },
    {
      "cell_type": "code",
      "source": [
        "list7=[1,2,3,4,5,6]\n",
        "try:\n",
        "  print(list7[10])\n",
        "  print(list7[1])\n",
        "\n",
        "except:\n",
        "  print(\"array out of bound\")       #once try clause finds an exception we jump to except clause directly without considering whats next in the try clause"
      ],
      "metadata": {
        "colab": {
          "base_uri": "https://localhost:8080/"
        },
        "id": "cq285vS24qJL",
        "outputId": "7bebcb2d-8f0b-4888-8b2e-64dc3ace15ee"
      },
      "execution_count": null,
      "outputs": [
        {
          "output_type": "stream",
          "name": "stdout",
          "text": [
            "array out of bound\n"
          ]
        }
      ]
    },
    {
      "cell_type": "code",
      "source": [
        "import sys\n",
        "try:\n",
        "  x=open(\"dile.txt\",\"r\")\n",
        "  print(x.read())\n",
        "\n",
        "except:\n",
        "  print(\"file doesn't exist\")\n",
        "\n",
        "finally:\n",
        "  print(\"finally clause executes for sure\")"
      ],
      "metadata": {
        "colab": {
          "base_uri": "https://localhost:8080/"
        },
        "id": "RXCx2W3h53Tn",
        "outputId": "0046f5cd-26d0-4e36-b2d8-1a7d9167c0b6"
      },
      "execution_count": null,
      "outputs": [
        {
          "output_type": "stream",
          "name": "stdout",
          "text": [
            "i am on top of the world yeah!\n",
            "finally clause executes for sure\n"
          ]
        }
      ]
    },
    {
      "cell_type": "code",
      "source": [
        "try:\n",
        "  raise TypeError(123)\n",
        "\n",
        "except:\n",
        "  print(\" ERROR HAS OCCURED\")                  #this line is required if we want to raise error of our choice which we have declared in try clause"
      ],
      "metadata": {
        "colab": {
          "base_uri": "https://localhost:8080/"
        },
        "id": "czXWfYuJ8Ryu",
        "outputId": "00e6f883-5e9e-435d-defc-61c05344ef9e"
      },
      "execution_count": null,
      "outputs": [
        {
          "output_type": "stream",
          "name": "stdout",
          "text": [
            " ERROR HAS OCCURED\n"
          ]
        }
      ]
    },
    {
      "cell_type": "code",
      "source": [
        "x=9\n",
        "y=0\n",
        "try:\n",
        "  z=x/y\n",
        "except ZeroDivisionError:\n",
        "  print(\"Zero div err\")"
      ],
      "metadata": {
        "colab": {
          "base_uri": "https://localhost:8080/"
        },
        "id": "i9crdcMf9rZH",
        "outputId": "75911f3f-6ff4-4a67-d8a1-f8d7ad61f68b"
      },
      "execution_count": null,
      "outputs": [
        {
          "output_type": "stream",
          "name": "stdout",
          "text": [
            "Zero div err\n"
          ]
        }
      ]
    },
    {
      "cell_type": "code",
      "source": [
        "#Comprehension\n",
        "#list\n",
        "#set\n",
        "#dictionary\n",
        "#generator"
      ],
      "metadata": {
        "id": "QaIQzq3B_lgo"
      },
      "execution_count": null,
      "outputs": []
    },
    {
      "cell_type": "code",
      "source": [
        "list1=[1,2,4,6,8,9,34,55]\n",
        "\n",
        "evenlist=[]\n",
        "\n",
        "for i in list1:\n",
        "  if(i%2==0):\n",
        "    evenlist.append(i)\n",
        "\n",
        "print(evenlist)"
      ],
      "metadata": {
        "colab": {
          "base_uri": "https://localhost:8080/"
        },
        "id": "yHMnyOp7AchL",
        "outputId": "4546ae4d-41c1-4413-95c5-9b3365b730eb"
      },
      "execution_count": null,
      "outputs": [
        {
          "output_type": "stream",
          "name": "stdout",
          "text": [
            "[2, 4, 6, 8, 34]\n"
          ]
        }
      ]
    },
    {
      "cell_type": "code",
      "source": [
        "#comprehension list\n",
        "evennumber=[value for value in list1 if value%2==0]\n",
        "print(evennumber)"
      ],
      "metadata": {
        "colab": {
          "base_uri": "https://localhost:8080/"
        },
        "id": "k5hHU09IEWyx",
        "outputId": "8b8a036c-3508-45bc-c795-90ef121715cf"
      },
      "execution_count": null,
      "outputs": [
        {
          "output_type": "stream",
          "name": "stdout",
          "text": [
            "[2, 4, 6, 8, 34]\n"
          ]
        }
      ]
    },
    {
      "cell_type": "code",
      "source": [
        "#Dictionary\n",
        "dict1={}\n",
        "\n",
        "for z in list1:\n",
        "  dict1[z]=z**2\n",
        "\n",
        "print(dict1)\n"
      ],
      "metadata": {
        "colab": {
          "base_uri": "https://localhost:8080/"
        },
        "id": "X705_gzxEumU",
        "outputId": "ede93728-c20c-4b96-930e-69fb2e00f3a9"
      },
      "execution_count": null,
      "outputs": [
        {
          "output_type": "stream",
          "name": "stdout",
          "text": [
            "{1: 1, 2: 4, 4: 16, 6: 36, 8: 64, 9: 81, 34: 1156, 55: 3025}\n"
          ]
        }
      ]
    },
    {
      "cell_type": "code",
      "source": [
        "x={var:var**2 for var in list1}\n",
        "\n",
        "print(x)"
      ],
      "metadata": {
        "colab": {
          "base_uri": "https://localhost:8080/"
        },
        "id": "PFrCq0LRGGw4",
        "outputId": "f3d2b1fd-be35-4766-eac6-0f88fef2977d"
      },
      "execution_count": null,
      "outputs": [
        {
          "output_type": "stream",
          "name": "stdout",
          "text": [
            "{1: 1, 2: 4, 4: 16, 6: 36, 8: 64, 9: 81, 34: 1156, 55: 3025}\n"
          ]
        }
      ]
    },
    {
      "cell_type": "markdown",
      "source": [
        "**Class 9**"
      ],
      "metadata": {
        "id": "zMVgia18Jzv0"
      }
    },
    {
      "cell_type": "code",
      "source": [
        "meIzaan=[1,2,4,8,90,43,22]\n",
        "numset=set()\n",
        "\n",
        "for x in meIzaan:\n",
        "  if(x%2==1):\n",
        "    numset.add(x)\n",
        "\n",
        "print(numset)"
      ],
      "metadata": {
        "colab": {
          "base_uri": "https://localhost:8080/"
        },
        "id": "CWJJmpTUJyv8",
        "outputId": "6a5b833c-fe8d-4872-eca2-001452603de2"
      },
      "execution_count": null,
      "outputs": [
        {
          "output_type": "stream",
          "name": "stdout",
          "text": [
            "{1, 43}\n"
          ]
        }
      ]
    },
    {
      "cell_type": "code",
      "source": [
        "#set comprehension\n",
        "\n",
        "numbb={value for value in meIzaan if value%2==1}\n",
        "print(numbb)"
      ],
      "metadata": {
        "colab": {
          "base_uri": "https://localhost:8080/"
        },
        "id": "n_0XmxT8OtkA",
        "outputId": "1f830ccf-728c-4889-877d-f591138225c8"
      },
      "execution_count": null,
      "outputs": [
        {
          "output_type": "stream",
          "name": "stdout",
          "text": [
            "{1, 43}\n"
          ]
        }
      ]
    },
    {
      "cell_type": "code",
      "source": [
        "#generator comprehension\n",
        "\n",
        "def randomname(x):\n",
        "  print(\"the values can be\")\n",
        "  yield 10*x\n",
        "  yield x**2\n",
        "\n",
        "# for i in randomname(3.22):        '''has an alternative'''\n",
        "#   print(i) \n",
        "\n",
        "z=randomname(3)"
      ],
      "metadata": {
        "id": "tBUgVUX4PQrB"
      },
      "execution_count": null,
      "outputs": []
    },
    {
      "cell_type": "code",
      "source": [
        "print(next(z))"
      ],
      "metadata": {
        "colab": {
          "base_uri": "https://localhost:8080/"
        },
        "id": "-M1XwXtpTZu3",
        "outputId": "765f8f34-a140-42ad-f39b-8b17034a263e"
      },
      "execution_count": null,
      "outputs": [
        {
          "output_type": "stream",
          "name": "stdout",
          "text": [
            "9\n"
          ]
        }
      ]
    },
    {
      "cell_type": "code",
      "source": [
        "#yield will be helping us to generate data\n",
        "#return  wil simply return back data as result\n",
        "\n",
        "def a(b):\n",
        "  return b\n",
        "\n",
        "a(123)"
      ],
      "metadata": {
        "colab": {
          "base_uri": "https://localhost:8080/"
        },
        "id": "hpxzv7HyU28R",
        "outputId": "7396dd13-ad7d-4fe8-f00b-5bb31a3f8ea3"
      },
      "execution_count": null,
      "outputs": [
        {
          "output_type": "execute_result",
          "data": {
            "text/plain": [
              "123"
            ]
          },
          "metadata": {},
          "execution_count": 52
        }
      ]
    },
    {
      "cell_type": "code",
      "source": [
        "#lambda\n",
        "print((lambda a,b,c:a+b)(1,2,4))\n"
      ],
      "metadata": {
        "colab": {
          "base_uri": "https://localhost:8080/"
        },
        "id": "YTinPEV-y009",
        "outputId": "f7378b0f-445f-49ff-ed59-468450809b52"
      },
      "execution_count": null,
      "outputs": [
        {
          "output_type": "stream",
          "name": "stdout",
          "text": [
            "3\n"
          ]
        }
      ]
    },
    {
      "cell_type": "code",
      "source": [
        "x2=[lambda x=x:x*10 for x in range(1,11)]\n",
        "\n",
        "for x3 in x2:\n",
        "  print(x3())"
      ],
      "metadata": {
        "colab": {
          "base_uri": "https://localhost:8080/"
        },
        "id": "JJeE7OUHzY0p",
        "outputId": "c1728694-9e9f-402c-ca51-210194f47cdd"
      },
      "execution_count": null,
      "outputs": [
        {
          "output_type": "stream",
          "name": "stdout",
          "text": [
            "10\n",
            "20\n",
            "30\n",
            "40\n",
            "50\n",
            "60\n",
            "70\n",
            "80\n",
            "90\n",
            "100\n"
          ]
        }
      ]
    },
    {
      "cell_type": "code",
      "source": [
        "y=lambda a,b: a if(a>b) else b\n",
        "\n",
        "print(y(2,4))"
      ],
      "metadata": {
        "colab": {
          "base_uri": "https://localhost:8080/"
        },
        "id": "i4pn9fwy0N9b",
        "outputId": "5177d7fc-f428-464e-d1f1-3b3e672a2e56"
      },
      "execution_count": null,
      "outputs": [
        {
          "output_type": "stream",
          "name": "stdout",
          "text": [
            "4\n"
          ]
        }
      ]
    },
    {
      "cell_type": "code",
      "source": [
        "table=[lambda y=y:y+10 for y in range(2,12)]\n",
        "\n",
        "for tables in table:\n",
        "  print(tables())"
      ],
      "metadata": {
        "colab": {
          "base_uri": "https://localhost:8080/"
        },
        "id": "LPQ96o591Wqj",
        "outputId": "ede3da8a-89f7-4694-b7c1-5d92516a6012"
      },
      "execution_count": null,
      "outputs": [
        {
          "output_type": "stream",
          "name": "stdout",
          "text": [
            "12\n",
            "13\n",
            "14\n",
            "15\n",
            "16\n",
            "17\n",
            "18\n",
            "19\n",
            "20\n",
            "21\n"
          ]
        }
      ]
    },
    {
      "cell_type": "code",
      "source": [
        "m=lambda a,b: a if (a>b) else b\n",
        "a,b=[int(n) for n in input(\"Enter 2 numbers:\").split(\",\")]\n",
        "print(\"bigger number is\",m(a,b))"
      ],
      "metadata": {
        "colab": {
          "base_uri": "https://localhost:8080/"
        },
        "id": "NKBDDnS24H_c",
        "outputId": "cd891991-ec61-4f45-8c90-852c9204582b"
      },
      "execution_count": null,
      "outputs": [
        {
          "output_type": "stream",
          "name": "stdout",
          "text": [
            "Enter 2 numbers:123,321\n",
            "bigger number is 321\n"
          ]
        }
      ]
    },
    {
      "cell_type": "code",
      "source": [
        "#lambda function -> anonymous function\n",
        "'''m1'''\n",
        "x=lambda q:q+29\n",
        "print(\"method 1:\",x(18))\n",
        "\n",
        "'''m2'''\n",
        "print((lambda x,u,z:x+u+z)(2,6,4))\n",
        "\n"
      ],
      "metadata": {
        "id": "YTzx00uq5pm4"
      },
      "execution_count": null,
      "outputs": []
    },
    {
      "cell_type": "code",
      "source": [
        "#string formatting\n",
        "#operators\n",
        "\n",
        "print(\"Hello %s\\nWelcome all\" %\"Sharks\")\n",
        "\n",
        "print(\"Hello %s Welcome %s\"%(\"Izaan\",\"Dude\"))"
      ],
      "metadata": {
        "colab": {
          "base_uri": "https://localhost:8080/"
        },
        "id": "3RbauNjt87vo",
        "outputId": "ef7b0e2d-45ba-45ae-8c41-0b5afb9f63d3"
      },
      "execution_count": null,
      "outputs": [
        {
          "output_type": "stream",
          "name": "stdout",
          "text": [
            "Hello Sharks\n",
            "Welcome all\n",
            "Hello Izaan Welcome Dude\n"
          ]
        }
      ]
    },
    {
      "cell_type": "code",
      "source": [
        "#format\n",
        "print(\"hello {2}, Welcome {0}\" .format(\"class\",\"is\",\"all\"))"
      ],
      "metadata": {
        "colab": {
          "base_uri": "https://localhost:8080/"
        },
        "id": "yUiWDhHd9fqj",
        "outputId": "4dcd8924-ee88-4942-bb0c-ffc33669a410"
      },
      "execution_count": null,
      "outputs": [
        {
          "output_type": "stream",
          "name": "stdout",
          "text": [
            "hello all, Welcome class\n"
          ]
        }
      ]
    }
  ]
}